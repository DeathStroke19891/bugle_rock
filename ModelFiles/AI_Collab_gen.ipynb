{
 "cells": [
  {
   "cell_type": "code",
   "execution_count": 111,
   "metadata": {},
   "outputs": [],
   "source": [
    "import numpy as np # linear algebra\n",
    "import pandas as pd # data processing, CSV file I/O (e.g. pd.read_csv)\n",
    "import heapq\n",
    "import scipy.sparse as sp\n",
    "import math\n",
    "# import cudf\n",
    "# import cupy\n",
    "from sklearn.model_selection import train_test_split\n",
    "from sklearn.metrics import mean_absolute_error, ndcg_score\n",
    "# from torchsummary import summary\n",
    "from tqdm.notebook import tqdm"
   ]
  },
  {
   "cell_type": "code",
   "execution_count": 112,
   "metadata": {},
   "outputs": [],
   "source": [
    "company_df = pd.read_csv('/home/krishnatejaswis/Files/VSCode/BugleRock/ML_Model_Predictor/Companies.csv')\n",
    "mapping_df = pd.read_csv('/home/krishnatejaswis/Files/VSCode/BugleRock/ML_Model_Predictor/mapping.csv')\n",
    "investor_df = pd.read_csv('/home/krishnatejaswis/Files/VSCode/BugleRock/ML_Model_Predictor/Investors.csv')"
   ]
  },
  {
   "cell_type": "code",
   "execution_count": 113,
   "metadata": {},
   "outputs": [
    {
     "data": {
      "text/html": [
       "<div>\n",
       "<style scoped>\n",
       "    .dataframe tbody tr th:only-of-type {\n",
       "        vertical-align: middle;\n",
       "    }\n",
       "\n",
       "    .dataframe tbody tr th {\n",
       "        vertical-align: top;\n",
       "    }\n",
       "\n",
       "    .dataframe thead th {\n",
       "        text-align: right;\n",
       "    }\n",
       "</style>\n",
       "<table border=\"1\" class=\"dataframe\">\n",
       "  <thead>\n",
       "    <tr style=\"text-align: right;\">\n",
       "      <th></th>\n",
       "      <th>CompanyID</th>\n",
       "      <th>Company</th>\n",
       "      <th>Size</th>\n",
       "      <th>Profit</th>\n",
       "      <th>Industry</th>\n",
       "    </tr>\n",
       "  </thead>\n",
       "  <tbody>\n",
       "    <tr>\n",
       "      <th>0</th>\n",
       "      <td>1</td>\n",
       "      <td>SPBSERE</td>\n",
       "      <td>322</td>\n",
       "      <td>66</td>\n",
       "      <td>Health</td>\n",
       "    </tr>\n",
       "    <tr>\n",
       "      <th>1</th>\n",
       "      <td>2</td>\n",
       "      <td>MYGLOLLSJ</td>\n",
       "      <td>399</td>\n",
       "      <td>87</td>\n",
       "      <td>Health</td>\n",
       "    </tr>\n",
       "    <tr>\n",
       "      <th>2</th>\n",
       "      <td>3</td>\n",
       "      <td>TIARHBRLK</td>\n",
       "      <td>481</td>\n",
       "      <td>70</td>\n",
       "      <td>Health</td>\n",
       "    </tr>\n",
       "    <tr>\n",
       "      <th>3</th>\n",
       "      <td>4</td>\n",
       "      <td>RQONOZ</td>\n",
       "      <td>301</td>\n",
       "      <td>38</td>\n",
       "      <td>Finance</td>\n",
       "    </tr>\n",
       "    <tr>\n",
       "      <th>4</th>\n",
       "      <td>5</td>\n",
       "      <td>MUYJBPD</td>\n",
       "      <td>227</td>\n",
       "      <td>79</td>\n",
       "      <td>Health</td>\n",
       "    </tr>\n",
       "  </tbody>\n",
       "</table>\n",
       "</div>"
      ],
      "text/plain": [
       "   CompanyID    Company  Size  Profit Industry\n",
       "0          1    SPBSERE   322      66   Health\n",
       "1          2  MYGLOLLSJ   399      87   Health\n",
       "2          3  TIARHBRLK   481      70   Health\n",
       "3          4     RQONOZ   301      38  Finance\n",
       "4          5    MUYJBPD   227      79   Health"
      ]
     },
     "execution_count": 113,
     "metadata": {},
     "output_type": "execute_result"
    }
   ],
   "source": [
    "company_df.head()"
   ]
  },
  {
   "cell_type": "code",
   "execution_count": 114,
   "metadata": {},
   "outputs": [
    {
     "data": {
      "text/html": [
       "<div>\n",
       "<style scoped>\n",
       "    .dataframe tbody tr th:only-of-type {\n",
       "        vertical-align: middle;\n",
       "    }\n",
       "\n",
       "    .dataframe tbody tr th {\n",
       "        vertical-align: top;\n",
       "    }\n",
       "\n",
       "    .dataframe thead th {\n",
       "        text-align: right;\n",
       "    }\n",
       "</style>\n",
       "<table border=\"1\" class=\"dataframe\">\n",
       "  <thead>\n",
       "    <tr style=\"text-align: right;\">\n",
       "      <th></th>\n",
       "      <th>InvestorID</th>\n",
       "      <th>Investor</th>\n",
       "      <th>RiskTolerance</th>\n",
       "      <th>TimeHorizon</th>\n",
       "      <th>IncomeNeeds</th>\n",
       "      <th>LiquidityNeeds</th>\n",
       "      <th>TaxConsiderations</th>\n",
       "      <th>AccountType</th>\n",
       "      <th>Age</th>\n",
       "      <th>InvestmentExperience</th>\n",
       "      <th>OtherAssets</th>\n",
       "      <th>RiskCapacity</th>\n",
       "    </tr>\n",
       "  </thead>\n",
       "  <tbody>\n",
       "    <tr>\n",
       "      <th>0</th>\n",
       "      <td>1</td>\n",
       "      <td>NKYWMDI</td>\n",
       "      <td>High</td>\n",
       "      <td>Short term</td>\n",
       "      <td>99317</td>\n",
       "      <td>Low</td>\n",
       "      <td>No</td>\n",
       "      <td>Taxable</td>\n",
       "      <td>69</td>\n",
       "      <td>Novice</td>\n",
       "      <td>517824</td>\n",
       "      <td>Low</td>\n",
       "    </tr>\n",
       "    <tr>\n",
       "      <th>1</th>\n",
       "      <td>2</td>\n",
       "      <td>XXJAVAO</td>\n",
       "      <td>High</td>\n",
       "      <td>Long term</td>\n",
       "      <td>179685</td>\n",
       "      <td>Moderate</td>\n",
       "      <td>Yes</td>\n",
       "      <td>IRA</td>\n",
       "      <td>68</td>\n",
       "      <td>Experienced</td>\n",
       "      <td>561371</td>\n",
       "      <td>High</td>\n",
       "    </tr>\n",
       "    <tr>\n",
       "      <th>2</th>\n",
       "      <td>3</td>\n",
       "      <td>QLRCUVVV</td>\n",
       "      <td>Low</td>\n",
       "      <td>Short term</td>\n",
       "      <td>94268</td>\n",
       "      <td>High</td>\n",
       "      <td>No</td>\n",
       "      <td>401k</td>\n",
       "      <td>66</td>\n",
       "      <td>Novice</td>\n",
       "      <td>811498</td>\n",
       "      <td>Moderate</td>\n",
       "    </tr>\n",
       "    <tr>\n",
       "      <th>3</th>\n",
       "      <td>4</td>\n",
       "      <td>BBXLL</td>\n",
       "      <td>Moderate</td>\n",
       "      <td>Long term</td>\n",
       "      <td>70071</td>\n",
       "      <td>Low</td>\n",
       "      <td>No</td>\n",
       "      <td>401k</td>\n",
       "      <td>53</td>\n",
       "      <td>Experienced</td>\n",
       "      <td>254560</td>\n",
       "      <td>High</td>\n",
       "    </tr>\n",
       "    <tr>\n",
       "      <th>4</th>\n",
       "      <td>5</td>\n",
       "      <td>QHKLWOL</td>\n",
       "      <td>Low</td>\n",
       "      <td>Medium term</td>\n",
       "      <td>56600</td>\n",
       "      <td>Moderate</td>\n",
       "      <td>No</td>\n",
       "      <td>Taxable</td>\n",
       "      <td>73</td>\n",
       "      <td>Experienced</td>\n",
       "      <td>972287</td>\n",
       "      <td>High</td>\n",
       "    </tr>\n",
       "  </tbody>\n",
       "</table>\n",
       "</div>"
      ],
      "text/plain": [
       "   InvestorID  Investor RiskTolerance  TimeHorizon  IncomeNeeds  \\\n",
       "0           1   NKYWMDI          High   Short term        99317   \n",
       "1           2   XXJAVAO          High    Long term       179685   \n",
       "2           3  QLRCUVVV           Low   Short term        94268   \n",
       "3           4     BBXLL      Moderate    Long term        70071   \n",
       "4           5   QHKLWOL           Low  Medium term        56600   \n",
       "\n",
       "  LiquidityNeeds TaxConsiderations AccountType  Age InvestmentExperience  \\\n",
       "0            Low                No     Taxable   69               Novice   \n",
       "1       Moderate               Yes         IRA   68          Experienced   \n",
       "2           High                No        401k   66               Novice   \n",
       "3            Low                No        401k   53          Experienced   \n",
       "4       Moderate                No     Taxable   73          Experienced   \n",
       "\n",
       "   OtherAssets RiskCapacity  \n",
       "0       517824          Low  \n",
       "1       561371         High  \n",
       "2       811498     Moderate  \n",
       "3       254560         High  \n",
       "4       972287         High  "
      ]
     },
     "execution_count": 114,
     "metadata": {},
     "output_type": "execute_result"
    }
   ],
   "source": [
    "investor_df.head()"
   ]
  },
  {
   "cell_type": "code",
   "execution_count": 115,
   "metadata": {},
   "outputs": [
    {
     "data": {
      "text/html": [
       "<div>\n",
       "<style scoped>\n",
       "    .dataframe tbody tr th:only-of-type {\n",
       "        vertical-align: middle;\n",
       "    }\n",
       "\n",
       "    .dataframe tbody tr th {\n",
       "        vertical-align: top;\n",
       "    }\n",
       "\n",
       "    .dataframe thead th {\n",
       "        text-align: right;\n",
       "    }\n",
       "</style>\n",
       "<table border=\"1\" class=\"dataframe\">\n",
       "  <thead>\n",
       "    <tr style=\"text-align: right;\">\n",
       "      <th></th>\n",
       "      <th>InvestorID</th>\n",
       "      <th>CompanyID</th>\n",
       "    </tr>\n",
       "  </thead>\n",
       "  <tbody>\n",
       "    <tr>\n",
       "      <th>0</th>\n",
       "      <td>1</td>\n",
       "      <td>29553</td>\n",
       "    </tr>\n",
       "    <tr>\n",
       "      <th>1</th>\n",
       "      <td>1</td>\n",
       "      <td>73163</td>\n",
       "    </tr>\n",
       "    <tr>\n",
       "      <th>2</th>\n",
       "      <td>1</td>\n",
       "      <td>90090</td>\n",
       "    </tr>\n",
       "    <tr>\n",
       "      <th>3</th>\n",
       "      <td>1</td>\n",
       "      <td>57148</td>\n",
       "    </tr>\n",
       "    <tr>\n",
       "      <th>4</th>\n",
       "      <td>1</td>\n",
       "      <td>47360</td>\n",
       "    </tr>\n",
       "  </tbody>\n",
       "</table>\n",
       "</div>"
      ],
      "text/plain": [
       "   InvestorID  CompanyID\n",
       "0           1      29553\n",
       "1           1      73163\n",
       "2           1      90090\n",
       "3           1      57148\n",
       "4           1      47360"
      ]
     },
     "execution_count": 115,
     "metadata": {},
     "output_type": "execute_result"
    }
   ],
   "source": [
    "mapping_df.head()"
   ]
  },
  {
   "cell_type": "code",
   "execution_count": 116,
   "metadata": {},
   "outputs": [
    {
     "name": "stdout",
     "output_type": "stream",
     "text": [
      "(25221, 2)\n"
     ]
    }
   ],
   "source": [
    "print(mapping_df.shape)"
   ]
  },
  {
   "cell_type": "code",
   "execution_count": 117,
   "metadata": {},
   "outputs": [
    {
     "name": "stdout",
     "output_type": "stream",
     "text": [
      "(100000, 5)\n",
      "(5000, 12)\n"
     ]
    }
   ],
   "source": [
    "print(company_df.shape)\n",
    "print(investor_df.shape)\n"
   ]
  },
  {
   "cell_type": "code",
   "execution_count": 118,
   "metadata": {},
   "outputs": [],
   "source": [
    "#company_df['CompanyId'] =np.arange(company_df['CompanyID'].nunique(),dtype='int') "
   ]
  },
  {
   "cell_type": "code",
   "execution_count": 119,
   "metadata": {},
   "outputs": [
    {
     "data": {
      "text/html": [
       "<div>\n",
       "<style scoped>\n",
       "    .dataframe tbody tr th:only-of-type {\n",
       "        vertical-align: middle;\n",
       "    }\n",
       "\n",
       "    .dataframe tbody tr th {\n",
       "        vertical-align: top;\n",
       "    }\n",
       "\n",
       "    .dataframe thead th {\n",
       "        text-align: right;\n",
       "    }\n",
       "</style>\n",
       "<table border=\"1\" class=\"dataframe\">\n",
       "  <thead>\n",
       "    <tr style=\"text-align: right;\">\n",
       "      <th></th>\n",
       "      <th>CompanyID</th>\n",
       "      <th>Company</th>\n",
       "      <th>Size</th>\n",
       "      <th>Profit</th>\n",
       "      <th>Industry</th>\n",
       "    </tr>\n",
       "  </thead>\n",
       "  <tbody>\n",
       "    <tr>\n",
       "      <th>0</th>\n",
       "      <td>1</td>\n",
       "      <td>SPBSERE</td>\n",
       "      <td>322</td>\n",
       "      <td>66</td>\n",
       "      <td>Health</td>\n",
       "    </tr>\n",
       "    <tr>\n",
       "      <th>1</th>\n",
       "      <td>2</td>\n",
       "      <td>MYGLOLLSJ</td>\n",
       "      <td>399</td>\n",
       "      <td>87</td>\n",
       "      <td>Health</td>\n",
       "    </tr>\n",
       "    <tr>\n",
       "      <th>2</th>\n",
       "      <td>3</td>\n",
       "      <td>TIARHBRLK</td>\n",
       "      <td>481</td>\n",
       "      <td>70</td>\n",
       "      <td>Health</td>\n",
       "    </tr>\n",
       "    <tr>\n",
       "      <th>3</th>\n",
       "      <td>4</td>\n",
       "      <td>RQONOZ</td>\n",
       "      <td>301</td>\n",
       "      <td>38</td>\n",
       "      <td>Finance</td>\n",
       "    </tr>\n",
       "    <tr>\n",
       "      <th>4</th>\n",
       "      <td>5</td>\n",
       "      <td>MUYJBPD</td>\n",
       "      <td>227</td>\n",
       "      <td>79</td>\n",
       "      <td>Health</td>\n",
       "    </tr>\n",
       "  </tbody>\n",
       "</table>\n",
       "</div>"
      ],
      "text/plain": [
       "   CompanyID    Company  Size  Profit Industry\n",
       "0          1    SPBSERE   322      66   Health\n",
       "1          2  MYGLOLLSJ   399      87   Health\n",
       "2          3  TIARHBRLK   481      70   Health\n",
       "3          4     RQONOZ   301      38  Finance\n",
       "4          5    MUYJBPD   227      79   Health"
      ]
     },
     "execution_count": 119,
     "metadata": {},
     "output_type": "execute_result"
    }
   ],
   "source": [
    "company_df.head()\n"
   ]
  },
  {
   "cell_type": "code",
   "execution_count": 120,
   "metadata": {},
   "outputs": [
    {
     "name": "stdout",
     "output_type": "stream",
     "text": [
      "(25221, 2)\n",
      "Range of userId is [0, 4999]\n",
      "Range of itemId is [1, 99998]\n"
     ]
    }
   ],
   "source": [
    "# Assuming 'CompanyID' in companies_df corresponds to 'isbn' in book_df\n",
    "# and 'InvestorID' in investor_df corresponds to 'user_id' in ratings_df\n",
    "\n",
    "# Create a unique ID for each company\n",
    "company_df['itemId'] = np.arange(company_df['CompanyID'].nunique(), dtype='int')\n",
    "\n",
    "# Merge the mapping_df with the company_df\n",
    "mapping_df = mapping_df.merge(company_df, on='CompanyID')\n",
    "\n",
    "# Create a unique ID for each investor\n",
    "investor_id = investor_df[['InvestorID']].drop_duplicates().reindex()\n",
    "investor_id['userId'] = np.arange(len(investor_id))\n",
    "\n",
    "# Merge the new investor IDs with the mapping_df\n",
    "mapping_df = pd.merge(mapping_df, investor_id, on=['InvestorID'], how='left')\n",
    "\n",
    "# Select the necessary columns\n",
    "mapping_df = mapping_df[['userId', 'itemId']]\n",
    "\n",
    "print(mapping_df.shape)\n",
    "print('Range of userId is [{}, {}]'.format(mapping_df.userId.min(), mapping_df.userId.max()))\n",
    "print('Range of itemId is [{}, {}]'.format(mapping_df.itemId.min(), mapping_df.itemId.max()))\n"
   ]
  },
  {
   "cell_type": "code",
   "execution_count": 121,
   "metadata": {},
   "outputs": [],
   "source": [
    "import torch \n",
    "import torch.nn as nn\n",
    "import torch.nn.functional as F\n",
    "from torch.utils.data import Dataset as torchDataset, DataLoader"
   ]
  },
  {
   "cell_type": "markdown",
   "metadata": {},
   "source": [
    "# Collaborative filtering"
   ]
  },
  {
   "cell_type": "code",
   "execution_count": 122,
   "metadata": {},
   "outputs": [],
   "source": [
    "device = 'cuda' if torch.cuda.is_available() else 'cpu'"
   ]
  },
  {
   "cell_type": "code",
   "execution_count": 123,
   "metadata": {},
   "outputs": [],
   "source": [
    "class CompanyInvestorDataset(torchDataset):\n",
    "    def __init__(self, df):\n",
    "        self.users = df['userId'].values\n",
    "        self.items = df['itemId'].values\n",
    "\n",
    "    def __len__(self):\n",
    "        return len(self.users)\n",
    "\n",
    "    def __getitem__(self, idx):\n",
    "        return self.users[idx], self.items[idx]\n"
   ]
  },
  {
   "cell_type": "code",
   "execution_count": 124,
   "metadata": {},
   "outputs": [],
   "source": [
    "class CFModel(nn.Module):\n",
    "    def __init__(self, n_users, n_items, n_factors=20):\n",
    "        super().__init__()\n",
    "        self.user_factors = nn.Embedding(n_users, n_factors)\n",
    "        self.item_factors = nn.Embedding(n_items, n_factors)\n",
    "\n",
    "    def forward(self, user, item):\n",
    "        return (self.user_factors(user) * self.item_factors(item)).sum(1)\n"
   ]
  },
  {
   "cell_type": "code",
   "execution_count": 159,
   "metadata": {},
   "outputs": [
    {
     "name": "stdout",
     "output_type": "stream",
     "text": [
      "18 100000 5000\n"
     ]
    }
   ],
   "source": [
    "n_epochs = 18  # Or however many epochs you want to train for\n",
    "n_users = investor_df['InvestorID'].nunique()\n",
    "n_items = company_df['CompanyID'].nunique()\n",
    "target = torch.ones(investor_df.shape[0], device=device)\n",
    "\n",
    "print(n_epochs,n_items,n_users)"
   ]
  },
  {
   "cell_type": "code",
   "execution_count": 178,
   "metadata": {},
   "outputs": [],
   "source": [
    "from sklearn.model_selection import train_test_split\n",
    "\n",
    "# Split data into training set and validation set\n",
    "train_df, val_df = train_test_split(mapping_df, test_size=0.35, random_state=42)\n",
    "\n",
    "# Create DataLoaders for training set and validation set\n",
    "train_dataset = CompanyInvestorDataset(train_df)\n",
    "val_dataset = CompanyInvestorDataset(val_df)\n",
    "\n",
    "train_dataloader = DataLoader(train_dataset, batch_size=32, shuffle=True)\n",
    "val_dataloader = DataLoader(val_dataset, batch_size=32, shuffle=False)\n"
   ]
  },
  {
   "cell_type": "code",
   "execution_count": 179,
   "metadata": {},
   "outputs": [
    {
     "name": "stdout",
     "output_type": "stream",
     "text": [
      "Epoch 1/18, Loss: 13.3964204788208\n",
      "Epoch 2/18, Loss: 28.144372940063477\n",
      "Epoch 3/18, Loss: 10.273414611816406\n",
      "Epoch 4/18, Loss: 6.277699947357178\n",
      "Epoch 5/18, Loss: 19.477210998535156\n",
      "Epoch 6/18, Loss: 19.276613235473633\n",
      "Epoch 7/18, Loss: 15.77616024017334\n",
      "Epoch 8/18, Loss: 7.632597923278809\n",
      "Epoch 9/18, Loss: 0.7359369397163391\n",
      "Epoch 10/18, Loss: 5.202756404876709\n",
      "Epoch 11/18, Loss: 3.2031781673431396\n",
      "Epoch 12/18, Loss: 0.6636853218078613\n",
      "Epoch 13/18, Loss: 0.17475873231887817\n",
      "Epoch 14/18, Loss: 0.7610730528831482\n",
      "Epoch 15/18, Loss: 5.27826452255249\n",
      "Epoch 16/18, Loss: 0.6452124714851379\n",
      "Epoch 17/18, Loss: 0.18331457674503326\n",
      "Epoch 18/18, Loss: 0.9598404765129089\n"
     ]
    }
   ],
   "source": [
    "# Initialize dataset and dataloader\n",
    "#dataset = CompanyInvestorDataset(mapping_df)\n",
    "dataloader = DataLoader(train_dataset, batch_size=32, shuffle=True)\n",
    "\n",
    "# Initialize model, loss function, and optimizer\n",
    "model = CFModel(n_users, n_items).to(device)\n",
    "loss_fn = nn.MSELoss()\n",
    "optimizer = torch.optim.Adam(model.parameters())\n",
    "\n",
    "# Training loop\n",
    "for epoch in range(n_epochs):\n",
    "    for investor, company in dataloader:\n",
    "        # Move data to device\n",
    "        investor = investor.to(device)\n",
    "        company = company.to(device)\n",
    "\n",
    "        # Create target tensor\n",
    "        target = torch.ones(investor.shape[0], device=device)\n",
    "\n",
    "        # Forward pass\n",
    "        preds = model(investor, company)\n",
    "        loss = loss_fn(preds, target)\n",
    "\n",
    "        # Backward pass and optimization\n",
    "        loss.backward()\n",
    "        optimizer.step()\n",
    "        optimizer.zero_grad()\n",
    "\n",
    "    print(f'Epoch {epoch+1}/{n_epochs}, Loss: {loss.item()}')\n",
    "\n"
   ]
  },
  {
   "cell_type": "code",
   "execution_count": 180,
   "metadata": {},
   "outputs": [
    {
     "name": "stdout",
     "output_type": "stream",
     "text": [
      "MAE: 0.5304457545280457\n"
     ]
    }
   ],
   "source": [
    "# Move data to device\n",
    "investor_val = investor.to(device)\n",
    "company_val = company.to(device)\n",
    "\n",
    "# Forward pass\n",
    "preds_val = model(investor_val, company_val)\n",
    "# Create target tensor for validation data\n",
    "target_val = torch.ones(investor_val.shape[0], device=device)\n",
    "\n",
    "# Calculate MAE\n",
    "mae = mean_absolute_error(preds_val.detach().cpu().numpy(), target_val.cpu().numpy())\n",
    "\n",
    "print(f'MAE: {mae}')\n",
    "from collections import defaultdict\n"
   ]
  },
  {
   "cell_type": "code",
   "execution_count": 181,
   "metadata": {},
   "outputs": [],
   "source": [
    "def recommend(investor_id, model, n_items):\n",
    "    # Set model to evaluation mode\n",
    "    model.eval()\n",
    "\n",
    "    # Create tensor of item IDs\n",
    "    items = torch.arange(n_items, device=device)\n",
    "\n",
    "    # Repeat investor ID for each item\n",
    "    investors = torch.full((n_items,), investor_id, device=device)\n",
    "\n",
    "    # Get predictions\n",
    "    with torch.no_grad():\n",
    "        preds = model(investors, items)\n",
    "\n",
    "    # Get indices of top predictions\n",
    "    top_items = preds.topk(k, largest=True).indices\n",
    "\n",
    "    return top_items\n"
   ]
  },
  {
   "cell_type": "code",
   "execution_count": 182,
   "metadata": {},
   "outputs": [],
   "source": [
    "def ndcg_at_k(predictions, k=10):\n",
    "    investor_est_true = defaultdict(list)\n",
    "    for uid, iid, true_r, est in predictions:\n",
    "        investor_est_true[uid].append((est, true_r))\n",
    "\n",
    "    def dcg_at_k(r, k):\n",
    "        r = np.asfarray(r)[:k]\n",
    "        return np.sum(r / np.log2(np.arange(2, len(r) + 2)))\n",
    "\n",
    "    ndcgs = []\n",
    "    for uid, investor_ratings in investor_est_true.items():\n",
    "        investor_ratings.sort(key=lambda x: x[0], reverse=True)\n",
    "        true_ratings = [true_r for (_, true_r) in investor_ratings]\n",
    "        ndcgs.append(dcg_at_k(true_ratings, k) / dcg_at_k(sorted(true_ratings, reverse=True), k))\n",
    "\n",
    "    return np.mean(ndcgs)\n",
    "\n"
   ]
  },
  {
   "cell_type": "code",
   "execution_count": 183,
   "metadata": {},
   "outputs": [],
   "source": [
    "from sklearn.metrics import mean_absolute_error\n",
    "\n",
    "def calculate_mae(model, dataloader):\n",
    "    model.eval()\n",
    "    with torch.no_grad():\n",
    "        preds = []\n",
    "        targets = []\n",
    "        for investor, company in dataloader:\n",
    "            investor = investor.to(device)\n",
    "            company = company.to(device)\n",
    "            target = torch.ones(investor.shape[0], device=device)\n",
    "            pred = model(investor, company)\n",
    "            preds.append(pred.cpu().numpy())\n",
    "            targets.append(target.cpu().numpy())\n",
    "        mae = mean_absolute_error(np.concatenate(targets), np.concatenate(preds))\n",
    "    return mae\n"
   ]
  },
  {
   "cell_type": "code",
   "execution_count": 184,
   "metadata": {},
   "outputs": [],
   "source": [
    "\n",
    "def precision_recall_at_k(predictions, k=10, threshold=1):\n",
    "    investor_est_true = defaultdict(list)\n",
    "    for uid, iid, true_r, est in predictions:\n",
    "        investor_est_true[uid].append((est, true_r))\n",
    "\n",
    "    precisions = dict()\n",
    "    recalls = dict()\n",
    "    for uid, investor_ratings in investor_est_true.items():\n",
    "        investor_ratings.sort(key=lambda x: x[0], reverse=True)\n",
    "        n_rel = sum((true_r >= threshold) for (_, true_r) in investor_ratings)\n",
    "        n_rec_k = sum((est >= threshold) for (est, _) in investor_ratings[:k])\n",
    "        n_rel_and_rec_k = sum(((true_r >= threshold) and (est >= threshold))\n",
    "                              for (est, true_r) in investor_ratings[:k])\n",
    "        precisions[uid] = n_rel_and_rec_k / n_rec_k if n_rec_k != 0 else 1\n",
    "        recalls[uid] = n_rel_and_rec_k / n_rel if n_rel != 0 else 1\n",
    "\n",
    "    return precisions, recalls\n",
    "\n"
   ]
  },
  {
   "cell_type": "code",
   "execution_count": 185,
   "metadata": {},
   "outputs": [
    {
     "name": "stdout",
     "output_type": "stream",
     "text": [
      "MAE: 3.5623388290405273\n",
      "Precision@k: 1.0\n",
      "Recall@k: 0.4045947264463006\n",
      "NDCG@k: 1.0\n"
     ]
    }
   ],
   "source": [
    "\n",
    "\n",
    "# Assuming you have a validation DataLoader `val_dataloader`\n",
    "val_predictions = []\n",
    "model.eval()\n",
    "with torch.no_grad():\n",
    "    for investor, company in val_dataloader:\n",
    "        investor = investor.to(device)\n",
    "        company = company.to(device)\n",
    "        target = torch.ones(investor.shape[0], device=device)\n",
    "        pred = model(investor, company)\n",
    "        val_predictions.extend([(i.item(), c.item(), t.item(), p.item()) for i, c, t, p in zip(investor, company, target, pred)])\n",
    "\n",
    "# Calculate MAE\n",
    "mae = calculate_mae(model, val_dataloader)\n",
    "print(f'MAE: {mae}')\n",
    "\n",
    "# Calculate precision and recall at k\n",
    "precisions, recalls = precision_recall_at_k(val_predictions, k=5)\n",
    "precision_k = sum(prec for prec in precisions.values()) / len(precisions)\n",
    "recall_k = sum(rec for rec in recalls.values()) / len(recalls)\n",
    "print(f'Precision@k: {precision_k}')\n",
    "print(f'Recall@k: {recall_k}')\n",
    "\n",
    "# Calculate NDCG at k\n",
    "ndcg_k = ndcg_at_k(val_predictions, k=5)\n",
    "print(f'NDCG@k: {ndcg_k}')\n"
   ]
  },
  {
   "cell_type": "code",
   "execution_count": 212,
   "metadata": {},
   "outputs": [
    {
     "name": "stdout",
     "output_type": "stream",
     "text": [
      "Recommendations for investor 1: tensor([67427, 78411, 62557, 27624, 63444, 99534, 85061, 66565, 72832, 57917],\n",
      "       device='cuda:0')\n"
     ]
    }
   ],
   "source": [
    "investor_id = 1  # The ID of the investor you want to generate recommendations for\n",
    "k = 10  # The number of recommendations to generate\n",
    "\n",
    "recommendations = recommend(investor_id, model, n_items)\n",
    "\n",
    "print(f'Recommendations for investor {investor_id}: {recommendations}')\n"
   ]
  },
  {
   "cell_type": "code",
   "execution_count": 213,
   "metadata": {},
   "outputs": [
    {
     "name": "stdout",
     "output_type": "stream",
     "text": [
      "       CompanyID    Company  Size  Profit Industry  itemId\n",
      "27623      27624  SDSLETSJF   168      64  Finance   27623\n",
      "57916      57917    TFWDPWI   247      28   Health   57916\n",
      "62556      62557    AGRAAOE   179      12     Tech   62556\n",
      "63443      63444   SYYHAUZJ   454      61     Tech   63443\n",
      "66564      66565     IYHLHC    77      68     Tech   66564\n",
      "67426      67427      TSLSJ   227      85     Tech   67426\n",
      "72831      72832      LIGJK   167      63     Tech   72831\n",
      "78410      78411  BNLBHYOXU   169      52     Tech   78410\n",
      "85060      85061   VIDWWYXS   341      70   Health   85060\n",
      "99533      99534      PCEGY   497      92     Tech   99533\n"
     ]
    }
   ],
   "source": [
    "recommended_companies = company_df[company_df['CompanyID'].isin(recommendations.cpu().numpy())]\n",
    "\n",
    "print(recommended_companies)\n"
   ]
  },
  {
   "cell_type": "code",
   "execution_count": 214,
   "metadata": {},
   "outputs": [],
   "source": [
    "# Save the model\n",
    "torch.save(model.state_dict(), './newModel.pth')\n"
   ]
  },
  {
   "cell_type": "code",
   "execution_count": 215,
   "metadata": {},
   "outputs": [
    {
     "data": {
      "text/plain": [
       "CFModel(\n",
       "  (user_factors): Embedding(5000, 20)\n",
       "  (item_factors): Embedding(100000, 20)\n",
       ")"
      ]
     },
     "execution_count": 215,
     "metadata": {},
     "output_type": "execute_result"
    }
   ],
   "source": [
    "# Load the model\n",
    "model = CFModel(n_users, n_items)  # Initialize the model\n",
    "model.load_state_dict(torch.load('model.pth'))  # Load the parameters\n",
    "model.to(device)  # Move the model to the device\n"
   ]
  },
  {
   "cell_type": "code",
   "execution_count": 216,
   "metadata": {},
   "outputs": [
    {
     "name": "stdout",
     "output_type": "stream",
     "text": [
      "Recommendations for investor 6: tensor([44821, 75142, 98996, 30398, 95685, 84725, 23048], device='cuda:0')\n"
     ]
    }
   ],
   "source": [
    "investor_id = 6  # The ID of the investor you want to generate recommendations for\n",
    "k = 7  # The number of recommendations to generate\n",
    "\n",
    "recommendations = recommend(investor_id, model, n_items)\n",
    "\n",
    "print(f'Recommendations for investor {investor_id}: {recommendations}')"
   ]
  },
  {
   "cell_type": "code",
   "execution_count": 217,
   "metadata": {},
   "outputs": [
    {
     "name": "stdout",
     "output_type": "stream",
     "text": [
      "       CompanyID    Company  Size  Profit Industry  itemId\n",
      "23047      23048  AKLFVOXIT   424      86     Tech   23047\n",
      "30397      30398   TBJDAGXL   329      80   Health   30397\n",
      "44820      44821   JLLFKOKU   274      99   Health   44820\n",
      "75141      75142    MODHOFB   134      31  Finance   75141\n",
      "84724      84725  JYEOESVCP   407      61   Health   84724\n",
      "95684      95685      FXKYE   199      47   Health   95684\n",
      "98995      98996   YXCHDDVV   186      90   Health   98995\n"
     ]
    }
   ],
   "source": [
    "recommended_companies = company_df[company_df['CompanyID'].isin(recommendations.cpu().numpy())]\n",
    "\n",
    "print(recommended_companies)"
   ]
  },
  {
   "cell_type": "code",
   "execution_count": 218,
   "metadata": {},
   "outputs": [],
   "source": [
    "newUserID= int(input(\"Enter the User ID: \"))\n",
    "compsNeeded = int(input(\"Enter the number of companies needed: \"))"
   ]
  },
  {
   "cell_type": "code",
   "execution_count": 219,
   "metadata": {},
   "outputs": [
    {
     "data": {
      "text/plain": [
       "CFModel(\n",
       "  (user_factors): Embedding(5000, 20)\n",
       "  (item_factors): Embedding(100000, 20)\n",
       ")"
      ]
     },
     "execution_count": 219,
     "metadata": {},
     "output_type": "execute_result"
    }
   ],
   "source": [
    "# Load the model\n",
    "model = CFModel(n_users, n_items)  # Initialize the model\n",
    "model.load_state_dict(torch.load('newModel.pth'))  # Load the parameters\n",
    "model.to(device)  # Move the model to the device"
   ]
  },
  {
   "cell_type": "code",
   "execution_count": 220,
   "metadata": {},
   "outputs": [
    {
     "name": "stdout",
     "output_type": "stream",
     "text": [
      "Recommendations for investor 1: tensor([67427, 78411, 62557, 27624, 63444, 99534, 85061, 66565, 72832, 57917],\n",
      "       device='cuda:0')\n"
     ]
    }
   ],
   "source": [
    "investor_id = newUserID # The ID of the investor you want to generate recommendations for\n",
    "k = compsNeeded  # The number of recommendations to generate\n",
    "\n",
    "recommendations = recommend(investor_id, model, n_items)\n",
    "\n",
    "print(f'Recommendations for investor {investor_id}: {recommendations}')"
   ]
  },
  {
   "cell_type": "code",
   "execution_count": 221,
   "metadata": {},
   "outputs": [
    {
     "name": "stdout",
     "output_type": "stream",
     "text": [
      "       CompanyID    Company  Size  Profit Industry  itemId\n",
      "27623      27624  SDSLETSJF   168      64  Finance   27623\n",
      "57916      57917    TFWDPWI   247      28   Health   57916\n",
      "62556      62557    AGRAAOE   179      12     Tech   62556\n",
      "63443      63444   SYYHAUZJ   454      61     Tech   63443\n",
      "66564      66565     IYHLHC    77      68     Tech   66564\n",
      "67426      67427      TSLSJ   227      85     Tech   67426\n",
      "72831      72832      LIGJK   167      63     Tech   72831\n",
      "78410      78411  BNLBHYOXU   169      52     Tech   78410\n",
      "85060      85061   VIDWWYXS   341      70   Health   85060\n",
      "99533      99534      PCEGY   497      92     Tech   99533\n"
     ]
    }
   ],
   "source": [
    "recommended_companies = company_df[company_df['CompanyID'].isin(recommendations.cpu().numpy())]\n",
    "\n",
    "print(recommended_companies)"
   ]
  }
 ],
 "metadata": {
  "kernelspec": {
   "display_name": "virtualEnv",
   "language": "python",
   "name": "python3"
  },
  "language_info": {
   "codemirror_mode": {
    "name": "ipython",
    "version": 3
   },
   "file_extension": ".py",
   "mimetype": "text/x-python",
   "name": "python",
   "nbconvert_exporter": "python",
   "pygments_lexer": "ipython3",
   "version": "3.11.6"
  }
 },
 "nbformat": 4,
 "nbformat_minor": 2
}
